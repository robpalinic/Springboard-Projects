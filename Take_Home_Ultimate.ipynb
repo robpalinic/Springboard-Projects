{
  "nbformat": 4,
  "nbformat_minor": 0,
  "metadata": {
    "colab": {
      "name": "Take Home Ultimate.ipynb",
      "provenance": [],
      "collapsed_sections": [],
      "mount_file_id": "1tyXIYVlW9XKBxJwNJrLRSMfxyCxcfQL8",
      "authorship_tag": "ABX9TyNJN3y5plYve2VBGlnqw7lP",
      "include_colab_link": true
    },
    "kernelspec": {
      "display_name": "Python 3",
      "name": "python3"
    },
    "language_info": {
      "name": "python"
    }
  },
  "cells": [
    {
      "cell_type": "markdown",
      "metadata": {
        "id": "view-in-github",
        "colab_type": "text"
      },
      "source": [
        "<a href=\"https://colab.research.google.com/github/robpalinic/Springboard-Projects/blob/main/Take_Home_Ultimate.ipynb\" target=\"_parent\"><img src=\"https://colab.research.google.com/assets/colab-badge.svg\" alt=\"Open In Colab\"/></a>"
      ]
    },
    {
      "cell_type": "markdown",
      "metadata": {
        "id": "hlR86NrojhVF"
      },
      "source": [
        "# **Ultimate Take Home Challenge**"
      ]
    },
    {
      "cell_type": "markdown",
      "metadata": {
        "id": "Mfm5aPl-h41U"
      },
      "source": [
        "**Data description**\n",
        "\n",
        "*   city: city this user signed up in\n",
        "*   phone: primary device for this user\n",
        "*   signup_date: date of account registration; in the form ‘YYYYMMDD’\n",
        "*   last_trip_date: the last time this user completed a trip; in the form ‘YYYYMMDD’\n",
        "*   avg_dist: the average distance in miles per trip taken in the first 30 days after signup\n",
        "*   avg_rating_by_driver: the rider’s average rating over all of their trips\n",
        "*   avg_rating_of_driver: the rider’s average rating of their drivers over all of their trips\n",
        "*   surge_pct: the percent of trips taken with surge multiplier > 1\n",
        "*   avg_surge: The average surge multiplier over all of this user’s trips\n",
        "*   trips_in_first_30_days: the number of trips this user took in the first 30 days signing up\n",
        "*   ultimate_black_user: TRUE if the user took an Ultimate Black in their first 30 days; FALSE otherwise\n",
        "*   weekday_pct: the percent of the user’s trips occurring during a weekday\n",
        "\n",
        "\n",
        "---\n",
        "\n",
        "\n"
      ]
    },
    {
      "cell_type": "code",
      "metadata": {
        "id": "tfEvDePJVlgw"
      },
      "source": [
        "#Import necessary libraries\n",
        "\n",
        "import pandas as pd\n",
        "import numpy as np\n",
        "import matplotlib.pyplot as plt\n",
        "import seaborn as sns\n",
        "import json\n",
        "from sklearn.preprocessing import StandardScaler\n",
        "from sklearn.model_selection import train_test_split\n",
        "from sklearn.linear_model import LogisticRegression\n",
        "from sklearn.metrics import roc_auc_score, plot_roc_curve\n",
        "from collections import defaultdict"
      ],
      "execution_count": 259,
      "outputs": []
    },
    {
      "cell_type": "code",
      "metadata": {
        "id": "QiJP13BaVpz5"
      },
      "source": [
        "#Read in both files\n",
        "\n",
        "ultimate_download = open('/content/drive/MyDrive/Ultimate_challenge/ultimate_data_challenge.json')\n",
        "ultimate = pd.DataFrame(json.load(ultimate_download))\n",
        "logins_download = open('/content/drive/MyDrive/Ultimate_challenge/logins.json')\n",
        "logins = pd.DataFrame(json.load(logins_download))"
      ],
      "execution_count": 260,
      "outputs": []
    },
    {
      "cell_type": "code",
      "metadata": {
        "colab": {
          "base_uri": "https://localhost:8080/",
          "height": 258
        },
        "id": "-__8Dq6cet50",
        "outputId": "887549fd-01f3-44de-e96b-e0f4aa9a1680"
      },
      "source": [
        "#Investigate the ultimate_data_challenge.json file\n",
        "\n",
        "ultimate.head()"
      ],
      "execution_count": 261,
      "outputs": [
        {
          "output_type": "execute_result",
          "data": {
            "text/html": [
              "<div>\n",
              "<style scoped>\n",
              "    .dataframe tbody tr th:only-of-type {\n",
              "        vertical-align: middle;\n",
              "    }\n",
              "\n",
              "    .dataframe tbody tr th {\n",
              "        vertical-align: top;\n",
              "    }\n",
              "\n",
              "    .dataframe thead th {\n",
              "        text-align: right;\n",
              "    }\n",
              "</style>\n",
              "<table border=\"1\" class=\"dataframe\">\n",
              "  <thead>\n",
              "    <tr style=\"text-align: right;\">\n",
              "      <th></th>\n",
              "      <th>city</th>\n",
              "      <th>trips_in_first_30_days</th>\n",
              "      <th>signup_date</th>\n",
              "      <th>avg_rating_of_driver</th>\n",
              "      <th>avg_surge</th>\n",
              "      <th>last_trip_date</th>\n",
              "      <th>phone</th>\n",
              "      <th>surge_pct</th>\n",
              "      <th>ultimate_black_user</th>\n",
              "      <th>weekday_pct</th>\n",
              "      <th>avg_dist</th>\n",
              "      <th>avg_rating_by_driver</th>\n",
              "    </tr>\n",
              "  </thead>\n",
              "  <tbody>\n",
              "    <tr>\n",
              "      <th>0</th>\n",
              "      <td>King's Landing</td>\n",
              "      <td>4</td>\n",
              "      <td>2014-01-25</td>\n",
              "      <td>4.7</td>\n",
              "      <td>1.10</td>\n",
              "      <td>2014-06-17</td>\n",
              "      <td>iPhone</td>\n",
              "      <td>15.4</td>\n",
              "      <td>True</td>\n",
              "      <td>46.2</td>\n",
              "      <td>3.67</td>\n",
              "      <td>5.0</td>\n",
              "    </tr>\n",
              "    <tr>\n",
              "      <th>1</th>\n",
              "      <td>Astapor</td>\n",
              "      <td>0</td>\n",
              "      <td>2014-01-29</td>\n",
              "      <td>5.0</td>\n",
              "      <td>1.00</td>\n",
              "      <td>2014-05-05</td>\n",
              "      <td>Android</td>\n",
              "      <td>0.0</td>\n",
              "      <td>False</td>\n",
              "      <td>50.0</td>\n",
              "      <td>8.26</td>\n",
              "      <td>5.0</td>\n",
              "    </tr>\n",
              "    <tr>\n",
              "      <th>2</th>\n",
              "      <td>Astapor</td>\n",
              "      <td>3</td>\n",
              "      <td>2014-01-06</td>\n",
              "      <td>4.3</td>\n",
              "      <td>1.00</td>\n",
              "      <td>2014-01-07</td>\n",
              "      <td>iPhone</td>\n",
              "      <td>0.0</td>\n",
              "      <td>False</td>\n",
              "      <td>100.0</td>\n",
              "      <td>0.77</td>\n",
              "      <td>5.0</td>\n",
              "    </tr>\n",
              "    <tr>\n",
              "      <th>3</th>\n",
              "      <td>King's Landing</td>\n",
              "      <td>9</td>\n",
              "      <td>2014-01-10</td>\n",
              "      <td>4.6</td>\n",
              "      <td>1.14</td>\n",
              "      <td>2014-06-29</td>\n",
              "      <td>iPhone</td>\n",
              "      <td>20.0</td>\n",
              "      <td>True</td>\n",
              "      <td>80.0</td>\n",
              "      <td>2.36</td>\n",
              "      <td>4.9</td>\n",
              "    </tr>\n",
              "    <tr>\n",
              "      <th>4</th>\n",
              "      <td>Winterfell</td>\n",
              "      <td>14</td>\n",
              "      <td>2014-01-27</td>\n",
              "      <td>4.4</td>\n",
              "      <td>1.19</td>\n",
              "      <td>2014-03-15</td>\n",
              "      <td>Android</td>\n",
              "      <td>11.8</td>\n",
              "      <td>False</td>\n",
              "      <td>82.4</td>\n",
              "      <td>3.13</td>\n",
              "      <td>4.9</td>\n",
              "    </tr>\n",
              "  </tbody>\n",
              "</table>\n",
              "</div>"
            ],
            "text/plain": [
              "             city  trips_in_first_30_days  ... avg_dist  avg_rating_by_driver\n",
              "0  King's Landing                       4  ...     3.67                   5.0\n",
              "1         Astapor                       0  ...     8.26                   5.0\n",
              "2         Astapor                       3  ...     0.77                   5.0\n",
              "3  King's Landing                       9  ...     2.36                   4.9\n",
              "4      Winterfell                      14  ...     3.13                   4.9\n",
              "\n",
              "[5 rows x 12 columns]"
            ]
          },
          "metadata": {
            "tags": []
          },
          "execution_count": 261
        }
      ]
    },
    {
      "cell_type": "code",
      "metadata": {
        "colab": {
          "base_uri": "https://localhost:8080/",
          "height": 204
        },
        "id": "x16sOOpze_vq",
        "outputId": "04dc48a2-5efc-4800-a9ab-aef27605450b"
      },
      "source": [
        "#Investigate the logins.json file\n",
        "\n",
        "logins.head()"
      ],
      "execution_count": 262,
      "outputs": [
        {
          "output_type": "execute_result",
          "data": {
            "text/html": [
              "<div>\n",
              "<style scoped>\n",
              "    .dataframe tbody tr th:only-of-type {\n",
              "        vertical-align: middle;\n",
              "    }\n",
              "\n",
              "    .dataframe tbody tr th {\n",
              "        vertical-align: top;\n",
              "    }\n",
              "\n",
              "    .dataframe thead th {\n",
              "        text-align: right;\n",
              "    }\n",
              "</style>\n",
              "<table border=\"1\" class=\"dataframe\">\n",
              "  <thead>\n",
              "    <tr style=\"text-align: right;\">\n",
              "      <th></th>\n",
              "      <th>login_time</th>\n",
              "    </tr>\n",
              "  </thead>\n",
              "  <tbody>\n",
              "    <tr>\n",
              "      <th>0</th>\n",
              "      <td>1970-01-01 20:13:18</td>\n",
              "    </tr>\n",
              "    <tr>\n",
              "      <th>1</th>\n",
              "      <td>1970-01-01 20:16:10</td>\n",
              "    </tr>\n",
              "    <tr>\n",
              "      <th>2</th>\n",
              "      <td>1970-01-01 20:16:37</td>\n",
              "    </tr>\n",
              "    <tr>\n",
              "      <th>3</th>\n",
              "      <td>1970-01-01 20:16:36</td>\n",
              "    </tr>\n",
              "    <tr>\n",
              "      <th>4</th>\n",
              "      <td>1970-01-01 20:26:21</td>\n",
              "    </tr>\n",
              "  </tbody>\n",
              "</table>\n",
              "</div>"
            ],
            "text/plain": [
              "            login_time\n",
              "0  1970-01-01 20:13:18\n",
              "1  1970-01-01 20:16:10\n",
              "2  1970-01-01 20:16:37\n",
              "3  1970-01-01 20:16:36\n",
              "4  1970-01-01 20:26:21"
            ]
          },
          "metadata": {
            "tags": []
          },
          "execution_count": 262
        }
      ]
    },
    {
      "cell_type": "markdown",
      "metadata": {
        "id": "qQ_0eIzLfUBB"
      },
      "source": [
        "\n",
        "\n",
        "---\n",
        "\n",
        "\n",
        "### **Part 1:  Exploratory Data Analysis**\n",
        "\n",
        "The attached logins.json file contains (simulated) timestamps of user logins in a particular\n",
        "geographic location. Aggregate these login counts based on 15minute time intervals, and visualize and describe the resulting time series of login counts in ways that best characterize the underlying patterns of the demand. Please report/illustrate important features of the demand,\n",
        "such as daily cycles. If there are data quality issues, please report them."
      ]
    },
    {
      "cell_type": "code",
      "metadata": {
        "colab": {
          "base_uri": "https://localhost:8080/"
        },
        "id": "8D17iqSsfu7j",
        "outputId": "3f4926bc-567a-4795-f383-a56465f449c3"
      },
      "source": [
        "#Determine number of records\n",
        "\n",
        "logins.shape"
      ],
      "execution_count": 263,
      "outputs": [
        {
          "output_type": "execute_result",
          "data": {
            "text/plain": [
              "(93142, 1)"
            ]
          },
          "metadata": {
            "tags": []
          },
          "execution_count": 263
        }
      ]
    },
    {
      "cell_type": "code",
      "metadata": {
        "colab": {
          "base_uri": "https://localhost:8080/"
        },
        "id": "ROkbDqsKgKNF",
        "outputId": "86ae0c99-19ab-4e53-a050-157c15488e08"
      },
      "source": [
        "#Identify minimum and maximum dates in the file\n",
        "\n",
        "print(logins.login_time.min())\n",
        "print(logins.login_time.max())"
      ],
      "execution_count": 264,
      "outputs": [
        {
          "output_type": "stream",
          "text": [
            "1970-01-01 20:12:16\n",
            "1970-04-13 18:57:38\n"
          ],
          "name": "stdout"
        }
      ]
    },
    {
      "cell_type": "code",
      "metadata": {
        "id": "Y8FLFVjZ-vhU"
      },
      "source": [
        "#Aggregate logins by time, with 15 minute intervals\n",
        "\n",
        "#Remove Dates from the Datetime portion\n",
        "logins.index = pd.to_datetime(logins.index)\n",
        "logins['login_time'] = pd.to_datetime(logins['login_time'])\n",
        "logins['time'] = logins['login_time'].dt.strftime('%H:%M:%S')\n",
        "logins = logins.set_index(pd.DatetimeIndex(logins['login_time']))\n",
        "login_times= pd.DataFrame(list(logins['time']))\n",
        "\n",
        "#Add a record copunter for each login\n",
        "login_times['Records'] = 1\n",
        "login_times.rename(columns={0:'Time', 'Records':'Logins'}, inplace=True)\n",
        "\n",
        "#Aggregate in 15 minute intervals\n",
        "login_times['Time'] = pd.to_datetime(login_times['Time'])\n",
        "login_times = login_times.set_index('Time')\n",
        "login_intervals = login_times.resample('15T').sum()"
      ],
      "execution_count": 265,
      "outputs": []
    },
    {
      "cell_type": "code",
      "metadata": {
        "colab": {
          "base_uri": "https://localhost:8080/",
          "height": 416
        },
        "id": "zaLLGkXI0xRt",
        "outputId": "00a7f47e-1b4b-4aa1-ad07-0d1c251a9773"
      },
      "source": [
        "#Plot login counts by time\n",
        "\n",
        "login_intervals.plot(title='Logins by Time', ylabel = 'Logins', figsize=(16,6));"
      ],
      "execution_count": 266,
      "outputs": [
        {
          "output_type": "display_data",
          "data": {
            "image/png": "[encoded data removed]",
            "text/plain": [
              "<Figure size 1152x432 with 1 Axes>"
            ]
          },
          "metadata": {
            "tags": [],
            "needs_background": "light"
          }
        }
      ]
    },
    {
      "cell_type": "markdown",
      "metadata": {
        "id": "Zt-3w8IH5wKt"
      },
      "source": [
        "**Part 1 Conclusions:**\n",
        "1.  The data provided for logins was complete in terms of time of day, but had issues regarding dats, namely that the date range was from January 1970 to April 1970.  This indicates issues with data formatting that would need to be corrected.\n",
        "2.  There are four periods throughout the day.  \n",
        "  a. From roughly 9 pm to 5 am is a peak period in terms of logins, and is the busiest overall time of day for drivers.  \n",
        "  b. Secondly is 5 am to 9 am, when there is next to no demand.  \n",
        "  c. Period three is from 9 am to 1 pm, where demand picks up again and has a sharp maximum at 12 pm.  \n",
        "  d. Finally, from 1 pm to 8 pm is a moderately busy time, not as high as the midnight or noon peaks, but also not as low as the early morning."
      ]
    },
    {
      "cell_type": "markdown",
      "metadata": {
        "id": "yf_aIWFrhg8t"
      },
      "source": [
        "\n",
        "\n",
        "---\n",
        "\n",
        "\n",
        "### **Part 2 : Experiment and metrics design**\n",
        "The neighboring cities of Gotham and Metropolis have complementary circadian rhythms: on\n",
        "weekdays, Ultimate Gotham is most active at night, and Ultimate Metropolis is most active\n",
        "during the day. On weekends, there is reasonable activity in both cities.\n",
        "However, a toll bridge, with a two­way toll, between the two cities causes driver partners to tend\n",
        "to be exclusive to each city. The Ultimate managers of city operations for the two cities have\n",
        "proposed an experiment to encourage driver partners to be available in both cities, by\n",
        "reimbursing all toll costs.\n",
        "\n"
      ]
    },
    {
      "cell_type": "markdown",
      "metadata": {
        "id": "atkkgs6H5dT3"
      },
      "source": [
        "**1**. **What would you choose as the key measure of success of this experiment in\n",
        "encouraging driver partners to serve both cities, and why would you choose this metric?**\n",
        "\n",
        "I would chose average distance as the key metric.  The goal of the program is to encourage driver partners to drive to both cities, and the best measure of this with the data available will be distance travelled.  Longer distances would indicate that the program is working.\n",
        "\n"
      ]
    },
    {
      "cell_type": "code",
      "metadata": {
        "colab": {
          "base_uri": "https://localhost:8080/",
          "height": 295
        },
        "id": "klA6nzpC5iQY",
        "outputId": "3cc5799d-46c3-46b8-c2fa-6ac909100dcc"
      },
      "source": [
        "#Visualize Average Trip Distance by Rider\n",
        "\n",
        "\n",
        "plt.figure(figsize=(20, 4))\n",
        "plt.hist(ultimate.avg_dist, bins=100)\n",
        "plt.xlabel('Average Distance')\n",
        "plt.ylabel('Number of Riders')\n",
        "plt.title('Average Trip Distances');"
      ],
      "execution_count": 267,
      "outputs": [
        {
          "output_type": "display_data",
          "data": {
            "image/png": "[encoded data removed]",
            "text/plain": [
              "<Figure size 1440x288 with 1 Axes>"
            ]
          },
          "metadata": {
            "tags": [],
            "needs_background": "light"
          }
        }
      ]
    },
    {
      "cell_type": "code",
      "metadata": {
        "colab": {
          "base_uri": "https://localhost:8080/"
        },
        "id": "Gp77tj6R9VYL",
        "outputId": "2d344d4e-a743-4947-dc53-4f42dafad339"
      },
      "source": [
        "print(\"The average of riders' average trip distance is: \" + str(round(np.mean(ultimate.avg_dist), 2)) + \" miles.\")"
      ],
      "execution_count": 268,
      "outputs": [
        {
          "output_type": "stream",
          "text": [
            "The average of riders' average trip distance is: 5.8 miles.\n"
          ],
          "name": "stdout"
        }
      ]
    },
    {
      "cell_type": "markdown",
      "metadata": {
        "id": "-x39Ftcb5VkN"
      },
      "source": [
        "**2. Describe a practical experiment you would design to compare the effectiveness of the\n",
        "proposed change in relation to the key measure of success. Please provide details on:\n",
        "a. how you will implement the experiment\n",
        "b. what statistical test(s) you will conduct to verify the significance of the\n",
        "observation\n",
        "c. how you would interpret the results and provide recommendations to the city\n",
        "operations team along with any caveats.**\n"
      ]
    },
    {
      "cell_type": "markdown",
      "metadata": {
        "id": "KpDwDAsb_auF"
      },
      "source": [
        "A practical experiment  would do is to announce a 'toll-free week', where all tolls would be waved and trips would be cheaper between the two cities.  This could be marketed as a celebration of the company's anniversary, or solar equinox, or any other excuse.  Awareness is key for both driver partners and passengers.\n",
        "\n",
        "Following the week, analysis can be performed on the average distance metric and a t-test used to compare against previous patterns, to indicate if distances have increased or are the same. This can and should be broken down into date and time periods to identify if only certain periods are affected.\n",
        "\n",
        "If there is a statistically significant difference in distances, we could conlude that the toll reduction has resulted in driver partners travelling more between the two cities.  We could also pinpoint when the toll reduction is most impactful and whether it should be time based or a blanket reduction.\n",
        "\n",
        "The only caveat is that the awareness of a free week may have changed behaviours.  A second test without fanfare may be useful to confirm actual changes.\n",
        "\n",
        "\n",
        "---\n",
        "\n"
      ]
    },
    {
      "cell_type": "markdown",
      "metadata": {
        "id": "2jkjJW53hskr"
      },
      "source": [
        "### **Part 3 ‐ Predictive modeling**\n",
        "Ultimate is interested in predicting rider retention. To help explore this question, we have\n",
        "provided a sample dataset of a cohort of users who signed up for an Ultimate account in January 2014. The data was pulled several months later; we consider a user retained if they\n",
        "were “active” (i.e. took a trip) in the preceding 30 days.\n",
        "We would like you to use this data set to help understand what factors are the best predictors\n",
        "for retention, and offer suggestions to operationalize those insights to help Ultimate.\n",
        "The data is in the attached file ultimate_data_challenge.json. See below for a detailed\n",
        "description of the dataset. Please include any code you wrote for the analysis and delete the\n",
        "dataset when you have finished with the challenge.\n",
        "\n",
        "\n"
      ]
    },
    {
      "cell_type": "markdown",
      "metadata": {
        "id": "zHUiXR5KCjDs"
      },
      "source": [
        "**1. Perform any cleaning, exploratory analysis, and/or visualizations to use the provided\n",
        "data for this analysis (a few sentences/plots describing your approach will suffice). What\n",
        "fraction of the observed users were retained?**"
      ]
    },
    {
      "cell_type": "code",
      "metadata": {
        "colab": {
          "base_uri": "https://localhost:8080/"
        },
        "id": "283G8kShCfQP",
        "outputId": "6c210b87-8888-43d9-d461-8bdd35d09fb7"
      },
      "source": [
        "ultimate.shape"
      ],
      "execution_count": 269,
      "outputs": [
        {
          "output_type": "execute_result",
          "data": {
            "text/plain": [
              "(50000, 12)"
            ]
          },
          "metadata": {
            "tags": []
          },
          "execution_count": 269
        }
      ]
    },
    {
      "cell_type": "code",
      "metadata": {
        "colab": {
          "base_uri": "https://localhost:8080/"
        },
        "id": "umK-nePXZ4cJ",
        "outputId": "49d83a98-23fe-432b-a214-f03c3fe80a3b"
      },
      "source": [
        "#Identify when riders signed up\n",
        "print(ultimate['signup_date'].min())\n",
        "print(ultimate['signup_date'].max())\n",
        "\n",
        "#Confirmed that only in January"
      ],
      "execution_count": 270,
      "outputs": [
        {
          "output_type": "stream",
          "text": [
            "2014-01-01\n",
            "2014-01-31\n"
          ],
          "name": "stdout"
        }
      ]
    },
    {
      "cell_type": "code",
      "metadata": {
        "colab": {
          "base_uri": "https://localhost:8080/"
        },
        "id": "SQZAcUQrZhwc",
        "outputId": "694626da-15f3-490e-b02d-75b71113e2e4"
      },
      "source": [
        "#Identify the last trip\n",
        "\n",
        "print(ultimate['last_trip_date'].max())\n",
        "\n",
        "#Confirmed that data ends July 1st."
      ],
      "execution_count": 271,
      "outputs": [
        {
          "output_type": "stream",
          "text": [
            "2014-07-01\n"
          ],
          "name": "stdout"
        }
      ]
    },
    {
      "cell_type": "code",
      "metadata": {
        "colab": {
          "base_uri": "https://localhost:8080/"
        },
        "id": "yq5lW2VgZihY",
        "outputId": "ddc61b76-47d2-4848-9006-b20c7dfb92eb"
      },
      "source": [
        "#How many riders made it to the six month total?\n",
        "ultimate[ultimate['last_trip_date']>='2014-06-01']['phone'].count()"
      ],
      "execution_count": 272,
      "outputs": [
        {
          "output_type": "execute_result",
          "data": {
            "text/plain": [
              "18671"
            ]
          },
          "metadata": {
            "tags": []
          },
          "execution_count": 272
        }
      ]
    },
    {
      "cell_type": "code",
      "metadata": {
        "colab": {
          "base_uri": "https://localhost:8080/"
        },
        "id": "s4GhmvcMZirt",
        "outputId": "c85d06e1-c4c6-42e2-e07f-8009f73155aa"
      },
      "source": [
        "#How many riders did not make it to the six month total?\n",
        "ultimate[ultimate['last_trip_date']<'2014-06-01']['phone'].count()"
      ],
      "execution_count": 273,
      "outputs": [
        {
          "output_type": "execute_result",
          "data": {
            "text/plain": [
              "30933"
            ]
          },
          "metadata": {
            "tags": []
          },
          "execution_count": 273
        }
      ]
    },
    {
      "cell_type": "markdown",
      "metadata": {
        "id": "grhRw-pGZv9t"
      },
      "source": [
        "Out of 50k riders, 31k churned, roughly 62% of riders."
      ]
    },
    {
      "cell_type": "code",
      "metadata": {
        "id": "-o-UVV8AZsGU"
      },
      "source": [
        "#Add a churn flag\n",
        "\n",
        "ultimate['churn'] = np.where(ultimate['last_trip_date']<'2014-06-01', 1, 0)"
      ],
      "execution_count": 274,
      "outputs": []
    },
    {
      "cell_type": "code",
      "metadata": {
        "colab": {
          "base_uri": "https://localhost:8080/",
          "height": 204
        },
        "id": "suqqc6u4a0xV",
        "outputId": "118dde90-240a-4b71-8fa2-f421f1c87a20"
      },
      "source": [
        "#Remove unneeded fields:  signup_date, last_trip_date, phone\n",
        "\n",
        "ultimate.drop(columns=['signup_date', 'last_trip_date', 'phone'], axis=1, inplace=True)\n",
        "ultimate.head()"
      ],
      "execution_count": 275,
      "outputs": [
        {
          "output_type": "execute_result",
          "data": {
            "text/html": [
              "<div>\n",
              "<style scoped>\n",
              "    .dataframe tbody tr th:only-of-type {\n",
              "        vertical-align: middle;\n",
              "    }\n",
              "\n",
              "    .dataframe tbody tr th {\n",
              "        vertical-align: top;\n",
              "    }\n",
              "\n",
              "    .dataframe thead th {\n",
              "        text-align: right;\n",
              "    }\n",
              "</style>\n",
              "<table border=\"1\" class=\"dataframe\">\n",
              "  <thead>\n",
              "    <tr style=\"text-align: right;\">\n",
              "      <th></th>\n",
              "      <th>city</th>\n",
              "      <th>trips_in_first_30_days</th>\n",
              "      <th>avg_rating_of_driver</th>\n",
              "      <th>avg_surge</th>\n",
              "      <th>surge_pct</th>\n",
              "      <th>ultimate_black_user</th>\n",
              "      <th>weekday_pct</th>\n",
              "      <th>avg_dist</th>\n",
              "      <th>avg_rating_by_driver</th>\n",
              "      <th>churn</th>\n",
              "    </tr>\n",
              "  </thead>\n",
              "  <tbody>\n",
              "    <tr>\n",
              "      <th>0</th>\n",
              "      <td>King's Landing</td>\n",
              "      <td>4</td>\n",
              "      <td>4.7</td>\n",
              "      <td>1.10</td>\n",
              "      <td>15.4</td>\n",
              "      <td>True</td>\n",
              "      <td>46.2</td>\n",
              "      <td>3.67</td>\n",
              "      <td>5.0</td>\n",
              "      <td>0</td>\n",
              "    </tr>\n",
              "    <tr>\n",
              "      <th>1</th>\n",
              "      <td>Astapor</td>\n",
              "      <td>0</td>\n",
              "      <td>5.0</td>\n",
              "      <td>1.00</td>\n",
              "      <td>0.0</td>\n",
              "      <td>False</td>\n",
              "      <td>50.0</td>\n",
              "      <td>8.26</td>\n",
              "      <td>5.0</td>\n",
              "      <td>1</td>\n",
              "    </tr>\n",
              "    <tr>\n",
              "      <th>2</th>\n",
              "      <td>Astapor</td>\n",
              "      <td>3</td>\n",
              "      <td>4.3</td>\n",
              "      <td>1.00</td>\n",
              "      <td>0.0</td>\n",
              "      <td>False</td>\n",
              "      <td>100.0</td>\n",
              "      <td>0.77</td>\n",
              "      <td>5.0</td>\n",
              "      <td>1</td>\n",
              "    </tr>\n",
              "    <tr>\n",
              "      <th>3</th>\n",
              "      <td>King's Landing</td>\n",
              "      <td>9</td>\n",
              "      <td>4.6</td>\n",
              "      <td>1.14</td>\n",
              "      <td>20.0</td>\n",
              "      <td>True</td>\n",
              "      <td>80.0</td>\n",
              "      <td>2.36</td>\n",
              "      <td>4.9</td>\n",
              "      <td>0</td>\n",
              "    </tr>\n",
              "    <tr>\n",
              "      <th>4</th>\n",
              "      <td>Winterfell</td>\n",
              "      <td>14</td>\n",
              "      <td>4.4</td>\n",
              "      <td>1.19</td>\n",
              "      <td>11.8</td>\n",
              "      <td>False</td>\n",
              "      <td>82.4</td>\n",
              "      <td>3.13</td>\n",
              "      <td>4.9</td>\n",
              "      <td>1</td>\n",
              "    </tr>\n",
              "  </tbody>\n",
              "</table>\n",
              "</div>"
            ],
            "text/plain": [
              "             city  trips_in_first_30_days  ...  avg_rating_by_driver  churn\n",
              "0  King's Landing                       4  ...                   5.0      0\n",
              "1         Astapor                       0  ...                   5.0      1\n",
              "2         Astapor                       3  ...                   5.0      1\n",
              "3  King's Landing                       9  ...                   4.9      0\n",
              "4      Winterfell                      14  ...                   4.9      1\n",
              "\n",
              "[5 rows x 10 columns]"
            ]
          },
          "metadata": {
            "tags": []
          },
          "execution_count": 275
        }
      ]
    },
    {
      "cell_type": "code",
      "metadata": {
        "colab": {
          "base_uri": "https://localhost:8080/"
        },
        "id": "Hq4oQNIODc-V",
        "outputId": "e76db436-eec5-46ba-899a-deed39d5778f"
      },
      "source": [
        "#Deal with NaN\n",
        "\n",
        "ultimate.isnull().sum()"
      ],
      "execution_count": 276,
      "outputs": [
        {
          "output_type": "execute_result",
          "data": {
            "text/plain": [
              "city                         0\n",
              "trips_in_first_30_days       0\n",
              "avg_rating_of_driver      8122\n",
              "avg_surge                    0\n",
              "surge_pct                    0\n",
              "ultimate_black_user          0\n",
              "weekday_pct                  0\n",
              "avg_dist                     0\n",
              "avg_rating_by_driver       201\n",
              "churn                        0\n",
              "dtype: int64"
            ]
          },
          "metadata": {
            "tags": []
          },
          "execution_count": 276
        }
      ]
    },
    {
      "cell_type": "code",
      "metadata": {
        "colab": {
          "base_uri": "https://localhost:8080/"
        },
        "id": "UIBh-suTE3AO",
        "outputId": "dbba5c16-a605-420b-a98e-3fe721568110"
      },
      "source": [
        "#Two fields have missing data.  This data can be removed\n",
        "ultimate.dropna(inplace=True)\n",
        "ultimate.shape"
      ],
      "execution_count": 277,
      "outputs": [
        {
          "output_type": "execute_result",
          "data": {
            "text/plain": [
              "(41744, 10)"
            ]
          },
          "metadata": {
            "tags": []
          },
          "execution_count": 277
        }
      ]
    },
    {
      "cell_type": "code",
      "metadata": {
        "colab": {
          "base_uri": "https://localhost:8080/",
          "height": 297
        },
        "id": "ctCIp3pYEL8F",
        "outputId": "c3b663e6-343d-427e-ceb7-f71e96a6a12e"
      },
      "source": [
        "#Identify Outliers\n",
        "ultimate.describe()"
      ],
      "execution_count": 278,
      "outputs": [
        {
          "output_type": "execute_result",
          "data": {
            "text/html": [
              "<div>\n",
              "<style scoped>\n",
              "    .dataframe tbody tr th:only-of-type {\n",
              "        vertical-align: middle;\n",
              "    }\n",
              "\n",
              "    .dataframe tbody tr th {\n",
              "        vertical-align: top;\n",
              "    }\n",
              "\n",
              "    .dataframe thead th {\n",
              "        text-align: right;\n",
              "    }\n",
              "</style>\n",
              "<table border=\"1\" class=\"dataframe\">\n",
              "  <thead>\n",
              "    <tr style=\"text-align: right;\">\n",
              "      <th></th>\n",
              "      <th>trips_in_first_30_days</th>\n",
              "      <th>avg_rating_of_driver</th>\n",
              "      <th>avg_surge</th>\n",
              "      <th>surge_pct</th>\n",
              "      <th>weekday_pct</th>\n",
              "      <th>avg_dist</th>\n",
              "      <th>avg_rating_by_driver</th>\n",
              "      <th>churn</th>\n",
              "    </tr>\n",
              "  </thead>\n",
              "  <tbody>\n",
              "    <tr>\n",
              "      <th>count</th>\n",
              "      <td>41744.000000</td>\n",
              "      <td>41744.000000</td>\n",
              "      <td>41744.000000</td>\n",
              "      <td>41744.000000</td>\n",
              "      <td>41744.000000</td>\n",
              "      <td>41744.000000</td>\n",
              "      <td>41744.000000</td>\n",
              "      <td>41744.000000</td>\n",
              "    </tr>\n",
              "    <tr>\n",
              "      <th>mean</th>\n",
              "      <td>2.611393</td>\n",
              "      <td>4.601801</td>\n",
              "      <td>1.073697</td>\n",
              "      <td>8.884695</td>\n",
              "      <td>61.304437</td>\n",
              "      <td>5.465312</td>\n",
              "      <td>4.776648</td>\n",
              "      <td>0.588971</td>\n",
              "    </tr>\n",
              "    <tr>\n",
              "      <th>std</th>\n",
              "      <td>4.060121</td>\n",
              "      <td>0.616079</td>\n",
              "      <td>0.198681</td>\n",
              "      <td>18.309042</td>\n",
              "      <td>34.799944</td>\n",
              "      <td>5.149810</td>\n",
              "      <td>0.404109</td>\n",
              "      <td>0.492026</td>\n",
              "    </tr>\n",
              "    <tr>\n",
              "      <th>min</th>\n",
              "      <td>0.000000</td>\n",
              "      <td>1.000000</td>\n",
              "      <td>1.000000</td>\n",
              "      <td>0.000000</td>\n",
              "      <td>0.000000</td>\n",
              "      <td>0.000000</td>\n",
              "      <td>1.000000</td>\n",
              "      <td>0.000000</td>\n",
              "    </tr>\n",
              "    <tr>\n",
              "      <th>25%</th>\n",
              "      <td>0.000000</td>\n",
              "      <td>4.300000</td>\n",
              "      <td>1.000000</td>\n",
              "      <td>0.000000</td>\n",
              "      <td>37.500000</td>\n",
              "      <td>2.420000</td>\n",
              "      <td>4.700000</td>\n",
              "      <td>0.000000</td>\n",
              "    </tr>\n",
              "    <tr>\n",
              "      <th>50%</th>\n",
              "      <td>1.000000</td>\n",
              "      <td>4.900000</td>\n",
              "      <td>1.000000</td>\n",
              "      <td>0.000000</td>\n",
              "      <td>66.700000</td>\n",
              "      <td>3.790000</td>\n",
              "      <td>5.000000</td>\n",
              "      <td>1.000000</td>\n",
              "    </tr>\n",
              "    <tr>\n",
              "      <th>75%</th>\n",
              "      <td>3.000000</td>\n",
              "      <td>5.000000</td>\n",
              "      <td>1.070000</td>\n",
              "      <td>11.100000</td>\n",
              "      <td>100.000000</td>\n",
              "      <td>6.490000</td>\n",
              "      <td>5.000000</td>\n",
              "      <td>1.000000</td>\n",
              "    </tr>\n",
              "    <tr>\n",
              "      <th>max</th>\n",
              "      <td>125.000000</td>\n",
              "      <td>5.000000</td>\n",
              "      <td>8.000000</td>\n",
              "      <td>100.000000</td>\n",
              "      <td>100.000000</td>\n",
              "      <td>79.690000</td>\n",
              "      <td>5.000000</td>\n",
              "      <td>1.000000</td>\n",
              "    </tr>\n",
              "  </tbody>\n",
              "</table>\n",
              "</div>"
            ],
            "text/plain": [
              "       trips_in_first_30_days  ...         churn\n",
              "count            41744.000000  ...  41744.000000\n",
              "mean                 2.611393  ...      0.588971\n",
              "std                  4.060121  ...      0.492026\n",
              "min                  0.000000  ...      0.000000\n",
              "25%                  0.000000  ...      0.000000\n",
              "50%                  1.000000  ...      1.000000\n",
              "75%                  3.000000  ...      1.000000\n",
              "max                125.000000  ...      1.000000\n",
              "\n",
              "[8 rows x 8 columns]"
            ]
          },
          "metadata": {
            "tags": []
          },
          "execution_count": 278
        }
      ]
    },
    {
      "cell_type": "markdown",
      "metadata": {
        "id": "-XmC6ZHuFdsd"
      },
      "source": [
        "Trips in First 30 days has a max value of 125, for an average of 4 trips a day.  It is possible, as someone is going to work, going home, then going out, maybe bar hopping, so we will keep the data.  \n",
        "\n",
        "The maximum for average distance is 79.69.  A person might be using this service for inter-city travel, so this data is plausible.\n",
        "\n",
        "All the data looks good, no changes needed."
      ]
    },
    {
      "cell_type": "code",
      "metadata": {
        "colab": {
          "base_uri": "https://localhost:8080/",
          "height": 241
        },
        "id": "obYsVaRuGJQg",
        "outputId": "34d1539e-1621-4825-a0a2-b79b2333397c"
      },
      "source": [
        "#City needs to be one hot encoded to numerical fields\n",
        "\n",
        "ultimate = pd.get_dummies(ultimate, drop_first = True)\n",
        "ultimate.head()"
      ],
      "execution_count": 279,
      "outputs": [
        {
          "output_type": "execute_result",
          "data": {
            "text/html": [
              "<div>\n",
              "<style scoped>\n",
              "    .dataframe tbody tr th:only-of-type {\n",
              "        vertical-align: middle;\n",
              "    }\n",
              "\n",
              "    .dataframe tbody tr th {\n",
              "        vertical-align: top;\n",
              "    }\n",
              "\n",
              "    .dataframe thead th {\n",
              "        text-align: right;\n",
              "    }\n",
              "</style>\n",
              "<table border=\"1\" class=\"dataframe\">\n",
              "  <thead>\n",
              "    <tr style=\"text-align: right;\">\n",
              "      <th></th>\n",
              "      <th>trips_in_first_30_days</th>\n",
              "      <th>avg_rating_of_driver</th>\n",
              "      <th>avg_surge</th>\n",
              "      <th>surge_pct</th>\n",
              "      <th>ultimate_black_user</th>\n",
              "      <th>weekday_pct</th>\n",
              "      <th>avg_dist</th>\n",
              "      <th>avg_rating_by_driver</th>\n",
              "      <th>churn</th>\n",
              "      <th>city_King's Landing</th>\n",
              "      <th>city_Winterfell</th>\n",
              "    </tr>\n",
              "  </thead>\n",
              "  <tbody>\n",
              "    <tr>\n",
              "      <th>0</th>\n",
              "      <td>4</td>\n",
              "      <td>4.7</td>\n",
              "      <td>1.10</td>\n",
              "      <td>15.4</td>\n",
              "      <td>True</td>\n",
              "      <td>46.2</td>\n",
              "      <td>3.67</td>\n",
              "      <td>5.0</td>\n",
              "      <td>0</td>\n",
              "      <td>1</td>\n",
              "      <td>0</td>\n",
              "    </tr>\n",
              "    <tr>\n",
              "      <th>1</th>\n",
              "      <td>0</td>\n",
              "      <td>5.0</td>\n",
              "      <td>1.00</td>\n",
              "      <td>0.0</td>\n",
              "      <td>False</td>\n",
              "      <td>50.0</td>\n",
              "      <td>8.26</td>\n",
              "      <td>5.0</td>\n",
              "      <td>1</td>\n",
              "      <td>0</td>\n",
              "      <td>0</td>\n",
              "    </tr>\n",
              "    <tr>\n",
              "      <th>2</th>\n",
              "      <td>3</td>\n",
              "      <td>4.3</td>\n",
              "      <td>1.00</td>\n",
              "      <td>0.0</td>\n",
              "      <td>False</td>\n",
              "      <td>100.0</td>\n",
              "      <td>0.77</td>\n",
              "      <td>5.0</td>\n",
              "      <td>1</td>\n",
              "      <td>0</td>\n",
              "      <td>0</td>\n",
              "    </tr>\n",
              "    <tr>\n",
              "      <th>3</th>\n",
              "      <td>9</td>\n",
              "      <td>4.6</td>\n",
              "      <td>1.14</td>\n",
              "      <td>20.0</td>\n",
              "      <td>True</td>\n",
              "      <td>80.0</td>\n",
              "      <td>2.36</td>\n",
              "      <td>4.9</td>\n",
              "      <td>0</td>\n",
              "      <td>1</td>\n",
              "      <td>0</td>\n",
              "    </tr>\n",
              "    <tr>\n",
              "      <th>4</th>\n",
              "      <td>14</td>\n",
              "      <td>4.4</td>\n",
              "      <td>1.19</td>\n",
              "      <td>11.8</td>\n",
              "      <td>False</td>\n",
              "      <td>82.4</td>\n",
              "      <td>3.13</td>\n",
              "      <td>4.9</td>\n",
              "      <td>1</td>\n",
              "      <td>0</td>\n",
              "      <td>1</td>\n",
              "    </tr>\n",
              "  </tbody>\n",
              "</table>\n",
              "</div>"
            ],
            "text/plain": [
              "   trips_in_first_30_days  ...  city_Winterfell\n",
              "0                       4  ...                0\n",
              "1                       0  ...                0\n",
              "2                       3  ...                0\n",
              "3                       9  ...                0\n",
              "4                      14  ...                1\n",
              "\n",
              "[5 rows x 11 columns]"
            ]
          },
          "metadata": {
            "tags": []
          },
          "execution_count": 279
        }
      ]
    },
    {
      "cell_type": "code",
      "metadata": {
        "colab": {
          "base_uri": "https://localhost:8080/",
          "height": 241
        },
        "id": "A0IqVRpPcxaY",
        "outputId": "44f13b98-a1b5-450f-b6f5-5f23a2b51886"
      },
      "source": [
        "#ultimate_black_user will be changed from True/False to 1/0\n",
        "\n",
        "ultimate['ultimate_black_user'] = ultimate['ultimate_black_user'].replace([True, False], [1,0])\n",
        "ultimate.head()"
      ],
      "execution_count": 280,
      "outputs": [
        {
          "output_type": "execute_result",
          "data": {
            "text/html": [
              "<div>\n",
              "<style scoped>\n",
              "    .dataframe tbody tr th:only-of-type {\n",
              "        vertical-align: middle;\n",
              "    }\n",
              "\n",
              "    .dataframe tbody tr th {\n",
              "        vertical-align: top;\n",
              "    }\n",
              "\n",
              "    .dataframe thead th {\n",
              "        text-align: right;\n",
              "    }\n",
              "</style>\n",
              "<table border=\"1\" class=\"dataframe\">\n",
              "  <thead>\n",
              "    <tr style=\"text-align: right;\">\n",
              "      <th></th>\n",
              "      <th>trips_in_first_30_days</th>\n",
              "      <th>avg_rating_of_driver</th>\n",
              "      <th>avg_surge</th>\n",
              "      <th>surge_pct</th>\n",
              "      <th>ultimate_black_user</th>\n",
              "      <th>weekday_pct</th>\n",
              "      <th>avg_dist</th>\n",
              "      <th>avg_rating_by_driver</th>\n",
              "      <th>churn</th>\n",
              "      <th>city_King's Landing</th>\n",
              "      <th>city_Winterfell</th>\n",
              "    </tr>\n",
              "  </thead>\n",
              "  <tbody>\n",
              "    <tr>\n",
              "      <th>0</th>\n",
              "      <td>4</td>\n",
              "      <td>4.7</td>\n",
              "      <td>1.10</td>\n",
              "      <td>15.4</td>\n",
              "      <td>1</td>\n",
              "      <td>46.2</td>\n",
              "      <td>3.67</td>\n",
              "      <td>5.0</td>\n",
              "      <td>0</td>\n",
              "      <td>1</td>\n",
              "      <td>0</td>\n",
              "    </tr>\n",
              "    <tr>\n",
              "      <th>1</th>\n",
              "      <td>0</td>\n",
              "      <td>5.0</td>\n",
              "      <td>1.00</td>\n",
              "      <td>0.0</td>\n",
              "      <td>0</td>\n",
              "      <td>50.0</td>\n",
              "      <td>8.26</td>\n",
              "      <td>5.0</td>\n",
              "      <td>1</td>\n",
              "      <td>0</td>\n",
              "      <td>0</td>\n",
              "    </tr>\n",
              "    <tr>\n",
              "      <th>2</th>\n",
              "      <td>3</td>\n",
              "      <td>4.3</td>\n",
              "      <td>1.00</td>\n",
              "      <td>0.0</td>\n",
              "      <td>0</td>\n",
              "      <td>100.0</td>\n",
              "      <td>0.77</td>\n",
              "      <td>5.0</td>\n",
              "      <td>1</td>\n",
              "      <td>0</td>\n",
              "      <td>0</td>\n",
              "    </tr>\n",
              "    <tr>\n",
              "      <th>3</th>\n",
              "      <td>9</td>\n",
              "      <td>4.6</td>\n",
              "      <td>1.14</td>\n",
              "      <td>20.0</td>\n",
              "      <td>1</td>\n",
              "      <td>80.0</td>\n",
              "      <td>2.36</td>\n",
              "      <td>4.9</td>\n",
              "      <td>0</td>\n",
              "      <td>1</td>\n",
              "      <td>0</td>\n",
              "    </tr>\n",
              "    <tr>\n",
              "      <th>4</th>\n",
              "      <td>14</td>\n",
              "      <td>4.4</td>\n",
              "      <td>1.19</td>\n",
              "      <td>11.8</td>\n",
              "      <td>0</td>\n",
              "      <td>82.4</td>\n",
              "      <td>3.13</td>\n",
              "      <td>4.9</td>\n",
              "      <td>1</td>\n",
              "      <td>0</td>\n",
              "      <td>1</td>\n",
              "    </tr>\n",
              "  </tbody>\n",
              "</table>\n",
              "</div>"
            ],
            "text/plain": [
              "   trips_in_first_30_days  ...  city_Winterfell\n",
              "0                       4  ...                0\n",
              "1                       0  ...                0\n",
              "2                       3  ...                0\n",
              "3                       9  ...                0\n",
              "4                      14  ...                1\n",
              "\n",
              "[5 rows x 11 columns]"
            ]
          },
          "metadata": {
            "tags": []
          },
          "execution_count": 280
        }
      ]
    },
    {
      "cell_type": "code",
      "metadata": {
        "colab": {
          "base_uri": "https://localhost:8080/"
        },
        "id": "750wWhZmcEcp",
        "outputId": "88e12702-ac43-4a04-eb90-eac98ee81a3c"
      },
      "source": [
        "#All data needs to be set to the same scale\n",
        "\n",
        "y = ultimate['churn']\n",
        "X = ultimate.drop(columns='churn', axis=1)\n",
        "\n",
        "columns = X.columns\n",
        "scaler = StandardScaler()\n",
        "X_scaled = scaler.fit_transform(X)\n",
        "X = pd.DataFrame(X_scaled, columns=columns)\n",
        "X.shape\n"
      ],
      "execution_count": 281,
      "outputs": [
        {
          "output_type": "execute_result",
          "data": {
            "text/plain": [
              "(41744, 10)"
            ]
          },
          "metadata": {
            "tags": []
          },
          "execution_count": 281
        }
      ]
    },
    {
      "cell_type": "markdown",
      "metadata": {
        "id": "XRi5t5a9f96h"
      },
      "source": [
        "We now have 41,744 records and 10 fields to use for model development, in a variable 'X'.  Target variable 'y' is a flag for churned customers."
      ]
    },
    {
      "cell_type": "markdown",
      "metadata": {
        "id": "HCMl2LwlCoMh"
      },
      "source": [
        "\n",
        "\n",
        "---\n",
        "\n",
        "\n",
        "\n",
        "\n",
        "**2. Build a predictive model to help Ultimate determine whether or not a user will be active\n",
        "in their 6th month on the system. Discuss why you chose your approach, what\n",
        "alternatives you considered, and any concerns you have. How valid is your model?\n",
        "Include any key indicators of model performance.**\n",
        "\n",
        "This case calls for a Logistic Regression model, to predict a binary outcome (churn or not churn).  This is a straightforward model that can also be easily explained to a non-technical audience.  I decided not to use a Random Forest model, which may have a slightly higher degree of accuracy, as it will essentially be a black box that will have a harder time of getting buy in from business partners.\n",
        "\n",
        "The major concern I have is the incompleteness of the data.  We are defining churn as not active in the 6th month, but an occasional user  may only use the service every two months.  I personally only use such services when I travel, and so would be considerd churn.  Also, we do not know how these users signed up, and whether it was promotionally driven or not, as that would be a major flag of future churn."
      ]
    },
    {
      "cell_type": "code",
      "metadata": {
        "id": "ZJQuZohqCsgw"
      },
      "source": [
        "#Create and train the Logistics Regression Model\n",
        "\n",
        "X_train, X_test, y_train, y_test = train_test_split(X, y, train_size=.3)\n",
        "lr = LogisticRegression(random_state=0).fit(X_train, y_train)\n",
        "y_pred = lr.predict(X_test)\n"
      ],
      "execution_count": 282,
      "outputs": []
    },
    {
      "cell_type": "code",
      "metadata": {
        "colab": {
          "base_uri": "https://localhost:8080/"
        },
        "id": "0_ybDDkhg9x1",
        "outputId": "8604bbe3-5efc-400c-aaaa-3c49155e020f"
      },
      "source": [
        "#Provide a score for the model\n",
        "\n",
        "roc_auc_score(y_test, y_pred)"
      ],
      "execution_count": 283,
      "outputs": [
        {
          "output_type": "execute_result",
          "data": {
            "text/plain": [
              "0.6586931543798542"
            ]
          },
          "metadata": {
            "tags": []
          },
          "execution_count": 283
        }
      ]
    },
    {
      "cell_type": "code",
      "metadata": {
        "colab": {
          "base_uri": "https://localhost:8080/",
          "height": 279
        },
        "id": "TE0p1-2viuOc",
        "outputId": "1ad38b2e-8eac-4f8a-bed5-5be635510b9c"
      },
      "source": [
        "#Graphically show the model's accuracy in predicting churn.\n",
        "plot_roc_curve(lr, X_test, y_test);"
      ],
      "execution_count": 284,
      "outputs": [
        {
          "output_type": "display_data",
          "data": {
            "image/png": "[encoded data removed]",
            "text/plain": [
              "<Figure size 432x288 with 1 Axes>"
            ]
          },
          "metadata": {
            "tags": [],
            "needs_background": "light"
          }
        }
      ]
    },
    {
      "cell_type": "code",
      "metadata": {
        "colab": {
          "base_uri": "https://localhost:8080/"
        },
        "id": "8RE02D0EmArn",
        "outputId": "53840117-9ae0-45f2-da74-87ab0886f8c1"
      },
      "source": [
        "#Find the coefficients of each feature, with higher absolute numbers indicating higher importance.\n",
        "\n",
        "feature_importance = defaultdict(float)\n",
        "columns = np.array(columns)\n",
        "for i in range(0, 10):\n",
        "  feature_importance[columns[i]] = round(lr.coef_[0][i], 2)\n",
        "\n",
        "feature_importance"
      ],
      "execution_count": 285,
      "outputs": [
        {
          "output_type": "execute_result",
          "data": {
            "text/plain": [
              "defaultdict(float,\n",
              "            {'avg_dist': 0.21,\n",
              "             'avg_rating_by_driver': 0.11,\n",
              "             'avg_rating_of_driver': 0.05,\n",
              "             'avg_surge': 0.05,\n",
              "             \"city_King's Landing\": -0.7,\n",
              "             'city_Winterfell': -0.26,\n",
              "             'surge_pct': -0.09,\n",
              "             'trips_in_first_30_days': -0.46,\n",
              "             'ultimate_black_user': -0.46,\n",
              "             'weekday_pct': 0.01})"
            ]
          },
          "metadata": {
            "tags": []
          },
          "execution_count": 285
        }
      ]
    },
    {
      "cell_type": "code",
      "metadata": {
        "colab": {
          "base_uri": "https://localhost:8080/"
        },
        "id": "opAdmUSznp14",
        "outputId": "fa552513-b445-43ca-8ffc-6337f25f960a"
      },
      "source": [
        "#Providee a list of least important to most important features.\n",
        "\n",
        "sorted(feature_importance, key=feature_importance.get)"
      ],
      "execution_count": 286,
      "outputs": [
        {
          "output_type": "execute_result",
          "data": {
            "text/plain": [
              "[\"city_King's Landing\",\n",
              " 'trips_in_first_30_days',\n",
              " 'ultimate_black_user',\n",
              " 'city_Winterfell',\n",
              " 'surge_pct',\n",
              " 'weekday_pct',\n",
              " 'avg_rating_of_driver',\n",
              " 'avg_surge',\n",
              " 'avg_rating_by_driver',\n",
              " 'avg_dist']"
            ]
          },
          "metadata": {
            "tags": []
          },
          "execution_count": 286
        }
      ]
    },
    {
      "cell_type": "markdown",
      "metadata": {
        "id": "ksgGBLnGphg3"
      },
      "source": [
        ""
      ]
    },
    {
      "cell_type": "markdown",
      "metadata": {
        "id": "eg0Y9mehmdAl"
      },
      "source": [
        "The ROC score of .66 indicates that the model is fairly accurate, but not a perfect predictor.  Directionally it is useful, but would have trouble identifyin g individuals who are about to churn.\n",
        "The three most important features are whether riders are residents of King's Landing (followed by Winterfell residents), whether they are Ultimate Black users, and the number of trips in the first 30 days. This translates into higher churn for Astapor residents, and those who do not use Ultimate Black or have a high number of trips."
      ]
    },
    {
      "cell_type": "markdown",
      "metadata": {
        "id": "1ClwMcbICspv"
      },
      "source": [
        "\n",
        "**3. Briefly discuss how Ultimate might leverage the insights gained from the model to\n",
        "improve its long­term rider retention (again, a few sentences will suffice).**\n",
        "\n",
        "Of the three identified features, residency is the most actionable.  Ultimate Black Users and those who used the service a lot in the first 30 days can not be influenced as they clearly already made up their minds as to the service.  But for some reason Astapor residents have a propensity to churn.  Investigation would need to be undertaken.  Are the market conditions different, with other competitors?  Is traffic notoriously bad?  Is there a tool bridge causing higher prices?  Either way, there clearly exists a major difference between Astapor and King's Landing/Winterfell that is causing churn."
      ]
    }
  ]
}