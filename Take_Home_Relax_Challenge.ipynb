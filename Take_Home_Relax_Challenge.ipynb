{
  "nbformat": 4,
  "nbformat_minor": 0,
  "metadata": {
    "colab": {
      "name": "Take Home Relax Challenge.ipynb",
      "provenance": [],
      "collapsed_sections": [],
      "mount_file_id": "1yz3nMy4qoLDknjC0KB1yoZXu51xsswjB",
      "authorship_tag": "ABX9TyMzwkQRnLL/rlt9VSlyKsXC",
      "include_colab_link": true
    },
    "kernelspec": {
      "name": "python3",
      "display_name": "Python 3"
    },
    "language_info": {
      "name": "python"
    }
  },
  "cells": [
    {
      "cell_type": "markdown",
      "metadata": {
        "id": "view-in-github",
        "colab_type": "text"
      },
      "source": [
        "<a href=\"https://colab.research.google.com/github/robpalinic/Springboard-Projects/blob/main/Take_Home_Relax_Challenge.ipynb\" target=\"_parent\"><img src=\"https://colab.research.google.com/assets/colab-badge.svg\" alt=\"Open In Colab\"/></a>"
      ]
    },
    {
      "cell_type": "markdown",
      "metadata": {
        "id": "KEAlvuLeRGpd"
      },
      "source": [
        "# **Take Home Challenge:  Relax**\n",
        "**Defining an \"adopted user\" as a user who has logged into the product on three separate\n",
        "days in at least one seven ­day period, identify which factors predict future user\n",
        "adoption.**"
      ]
    },
    {
      "cell_type": "markdown",
      "metadata": {
        "id": "6yapaZHORNWE"
      },
      "source": [
        "## **1. Import Libraries and Data**"
      ]
    },
    {
      "cell_type": "code",
      "metadata": {
        "id": "nlnSWcY1uQjy"
      },
      "source": [
        "import numpy as np\n",
        "import pandas as pd\n",
        "import matplotlib.pyplot as plt\n",
        "from datetime import datetime, timedelta\n",
        "from sklearn.model_selection import train_test_split\n",
        "from sklearn.preprocessing import StandardScaler\n",
        "from sklearn.linear_model import LogisticRegression\n",
        "from sklearn.metrics import roc_auc_score, plot_roc_curve\n",
        "from collections import defaultdict"
      ],
      "execution_count": 1,
      "outputs": []
    },
    {
      "cell_type": "code",
      "metadata": {
        "id": "-FdU4rMFufFt"
      },
      "source": [
        "engagement = pd.read_csv('/content/drive/MyDrive/relax_challenge/takehome_user_engagement.csv')\n",
        "users = pd.read_csv('/content/drive/MyDrive/relax_challenge/takehome_users.csv',encoding='latin1')"
      ],
      "execution_count": 2,
      "outputs": []
    },
    {
      "cell_type": "markdown",
      "metadata": {
        "id": "3eBIha-DRk8c"
      },
      "source": [
        "## **2. Investigate Data**"
      ]
    },
    {
      "cell_type": "code",
      "metadata": {
        "colab": {
          "base_uri": "https://localhost:8080/",
          "height": 78
        },
        "id": "YRX6JG8ru85A",
        "outputId": "592adb91-5a0b-4174-c17f-6d733bc189e5"
      },
      "source": [
        "users.head(1)"
      ],
      "execution_count": 3,
      "outputs": [
        {
          "output_type": "execute_result",
          "data": {
            "text/html": [
              "<div>\n",
              "<style scoped>\n",
              "    .dataframe tbody tr th:only-of-type {\n",
              "        vertical-align: middle;\n",
              "    }\n",
              "\n",
              "    .dataframe tbody tr th {\n",
              "        vertical-align: top;\n",
              "    }\n",
              "\n",
              "    .dataframe thead th {\n",
              "        text-align: right;\n",
              "    }\n",
              "</style>\n",
              "<table border=\"1\" class=\"dataframe\">\n",
              "  <thead>\n",
              "    <tr style=\"text-align: right;\">\n",
              "      <th></th>\n",
              "      <th>object_id</th>\n",
              "      <th>creation_time</th>\n",
              "      <th>name</th>\n",
              "      <th>email</th>\n",
              "      <th>creation_source</th>\n",
              "      <th>last_session_creation_time</th>\n",
              "      <th>opted_in_to_mailing_list</th>\n",
              "      <th>enabled_for_marketing_drip</th>\n",
              "      <th>org_id</th>\n",
              "      <th>invited_by_user_id</th>\n",
              "    </tr>\n",
              "  </thead>\n",
              "  <tbody>\n",
              "    <tr>\n",
              "      <th>0</th>\n",
              "      <td>1</td>\n",
              "      <td>2014-04-22 03:53:30</td>\n",
              "      <td>Clausen August</td>\n",
              "      <td>AugustCClausen@yahoo.com</td>\n",
              "      <td>GUEST_INVITE</td>\n",
              "      <td>1.398139e+09</td>\n",
              "      <td>1</td>\n",
              "      <td>0</td>\n",
              "      <td>11</td>\n",
              "      <td>10803.0</td>\n",
              "    </tr>\n",
              "  </tbody>\n",
              "</table>\n",
              "</div>"
            ],
            "text/plain": [
              "   object_id        creation_time  ... org_id invited_by_user_id\n",
              "0          1  2014-04-22 03:53:30  ...     11            10803.0\n",
              "\n",
              "[1 rows x 10 columns]"
            ]
          },
          "metadata": {
            "tags": []
          },
          "execution_count": 3
        }
      ]
    },
    {
      "cell_type": "code",
      "metadata": {
        "id": "4_GDKrjpJG-0"
      },
      "source": [
        "\n",
        "#users['last_session_creation_time'] = pd.to_datetime(users['last_session_creation_time'],unit='s', origin='unix')\n",
        "# users['creation_time'] = pd.to_datetime(users['creation_time'] )\n",
        "# users['time_differences'] = users['last_session_creation_time'] - users['creation_time']\n",
        "# users['time_differences'] = users['time_differences']/np.timedelta64(1,'D')"
      ],
      "execution_count": 4,
      "outputs": []
    },
    {
      "cell_type": "code",
      "metadata": {
        "id": "vPmMmoikLR3s"
      },
      "source": [
        "users.set_index('object_id', inplace=True)"
      ],
      "execution_count": 5,
      "outputs": []
    },
    {
      "cell_type": "code",
      "metadata": {
        "colab": {
          "base_uri": "https://localhost:8080/",
          "height": 110
        },
        "id": "45Kfe2oOmRDm",
        "outputId": "7e698800-55b3-46a6-9ac5-0043cbb21b0f"
      },
      "source": [
        "engagement.head(2)"
      ],
      "execution_count": 6,
      "outputs": [
        {
          "output_type": "execute_result",
          "data": {
            "text/html": [
              "<div>\n",
              "<style scoped>\n",
              "    .dataframe tbody tr th:only-of-type {\n",
              "        vertical-align: middle;\n",
              "    }\n",
              "\n",
              "    .dataframe tbody tr th {\n",
              "        vertical-align: top;\n",
              "    }\n",
              "\n",
              "    .dataframe thead th {\n",
              "        text-align: right;\n",
              "    }\n",
              "</style>\n",
              "<table border=\"1\" class=\"dataframe\">\n",
              "  <thead>\n",
              "    <tr style=\"text-align: right;\">\n",
              "      <th></th>\n",
              "      <th>time_stamp</th>\n",
              "      <th>user_id</th>\n",
              "      <th>visited</th>\n",
              "    </tr>\n",
              "  </thead>\n",
              "  <tbody>\n",
              "    <tr>\n",
              "      <th>0</th>\n",
              "      <td>2014-04-22 03:53:30</td>\n",
              "      <td>1</td>\n",
              "      <td>1</td>\n",
              "    </tr>\n",
              "    <tr>\n",
              "      <th>1</th>\n",
              "      <td>2013-11-15 03:45:04</td>\n",
              "      <td>2</td>\n",
              "      <td>1</td>\n",
              "    </tr>\n",
              "  </tbody>\n",
              "</table>\n",
              "</div>"
            ],
            "text/plain": [
              "            time_stamp  user_id  visited\n",
              "0  2014-04-22 03:53:30        1        1\n",
              "1  2013-11-15 03:45:04        2        1"
            ]
          },
          "metadata": {
            "tags": []
          },
          "execution_count": 6
        }
      ]
    },
    {
      "cell_type": "code",
      "metadata": {
        "colab": {
          "base_uri": "https://localhost:8080/"
        },
        "id": "DGfIExxz4oLU",
        "outputId": "585b22dd-f5f4-4fb6-f28d-9ccdb00c4540"
      },
      "source": [
        "print(engagement['time_stamp'].min(), engagement['time_stamp'].max())"
      ],
      "execution_count": 7,
      "outputs": [
        {
          "output_type": "stream",
          "text": [
            "2012-05-31 08:20:06 2014-06-06 14:58:50\n"
          ],
          "name": "stdout"
        }
      ]
    },
    {
      "cell_type": "code",
      "metadata": {
        "colab": {
          "base_uri": "https://localhost:8080/"
        },
        "id": "X-I0smD1qtrh",
        "outputId": "54002188-b73a-4cef-8854-5fdfe676bf02"
      },
      "source": [
        "#Count the number of unique users\n",
        "\n",
        "engagement['user_id'].nunique()"
      ],
      "execution_count": 8,
      "outputs": [
        {
          "output_type": "execute_result",
          "data": {
            "text/plain": [
              "8823"
            ]
          },
          "metadata": {
            "tags": []
          },
          "execution_count": 8
        }
      ]
    },
    {
      "cell_type": "code",
      "metadata": {
        "id": "vbecfxMh456P"
      },
      "source": [
        "#Get the number of days in the range\n",
        "\n",
        "date_format = \"%Y-%m-%d %H:%M:%S\"\n",
        "a = datetime.strptime(str(engagement['time_stamp'].min()), date_format)\n",
        "b = datetime.strptime(str(engagement['time_stamp'].max()), date_format)\n",
        "delta = b - a\n",
        "delta = int(delta.days)"
      ],
      "execution_count": 9,
      "outputs": []
    },
    {
      "cell_type": "code",
      "metadata": {
        "id": "AIZemREX0Vpt"
      },
      "source": [
        "#Identify any user who has used the product at least 3 times in a 7 day window.\n",
        "\n",
        "engagement['time_stamp'] = pd.to_datetime(engagement['time_stamp'])\n",
        "\n",
        "start = pd.to_datetime(engagement['time_stamp'].min()) - timedelta(days=1)\n",
        "end = pd.to_datetime(engagement['time_stamp'].min()) + timedelta(days=6) \n",
        "\n",
        "ids = []\n",
        "\n",
        "for i in range(0, delta):\n",
        "  start = pd.to_datetime(start + timedelta(days=1))\n",
        "  end = pd.to_datetime(end + timedelta(days=1))\n",
        "  a = engagement[(engagement['time_stamp']>=start) & (engagement['time_stamp']<=end)]\n",
        "  b = pd.DataFrame(a.groupby('user_id')['time_stamp'].count())\n",
        "  c = pd.DataFrame(b[b.time_stamp>2])\n",
        "  if c.empty:\n",
        "    pass\n",
        "  else:\n",
        "    #ids.append((c.index)[0])\n",
        "    d = list(c.index.values)\n",
        "    for i in d:\n",
        "      ids.append(i)\n",
        "\n",
        "adopted_users = list(set(ids))"
      ],
      "execution_count": 10,
      "outputs": []
    },
    {
      "cell_type": "code",
      "metadata": {
        "colab": {
          "base_uri": "https://localhost:8080/"
        },
        "id": "dAPcKi_crHAB",
        "outputId": "64a5a90d-ab63-4176-9411-8a127640c7fa"
      },
      "source": [
        "print(len(adopted_users))"
      ],
      "execution_count": 11,
      "outputs": [
        {
          "output_type": "stream",
          "text": [
            "1602\n"
          ],
          "name": "stdout"
        }
      ]
    },
    {
      "cell_type": "markdown",
      "metadata": {
        "id": "O30TxFN0rDe3"
      },
      "source": [
        "**1602 of the users can be termed adopted users, having used the product three times within a seven day time window.**"
      ]
    },
    {
      "cell_type": "code",
      "metadata": {
        "id": "g3-rj-E4BczF"
      },
      "source": [
        "for user in adopted_users:\n",
        "  users.loc[user, 'adopted_user'] = 1\n",
        "users.fillna(0, inplace=True)"
      ],
      "execution_count": 12,
      "outputs": []
    },
    {
      "cell_type": "code",
      "metadata": {
        "colab": {
          "base_uri": "https://localhost:8080/",
          "height": 110
        },
        "id": "Iy6ITeRnFs1N",
        "outputId": "9b902521-fc86-4fdf-c5b1-552b3ce7cd25"
      },
      "source": [
        "users.head(1)"
      ],
      "execution_count": 13,
      "outputs": [
        {
          "output_type": "execute_result",
          "data": {
            "text/html": [
              "<div>\n",
              "<style scoped>\n",
              "    .dataframe tbody tr th:only-of-type {\n",
              "        vertical-align: middle;\n",
              "    }\n",
              "\n",
              "    .dataframe tbody tr th {\n",
              "        vertical-align: top;\n",
              "    }\n",
              "\n",
              "    .dataframe thead th {\n",
              "        text-align: right;\n",
              "    }\n",
              "</style>\n",
              "<table border=\"1\" class=\"dataframe\">\n",
              "  <thead>\n",
              "    <tr style=\"text-align: right;\">\n",
              "      <th></th>\n",
              "      <th>creation_time</th>\n",
              "      <th>name</th>\n",
              "      <th>email</th>\n",
              "      <th>creation_source</th>\n",
              "      <th>last_session_creation_time</th>\n",
              "      <th>opted_in_to_mailing_list</th>\n",
              "      <th>enabled_for_marketing_drip</th>\n",
              "      <th>org_id</th>\n",
              "      <th>invited_by_user_id</th>\n",
              "      <th>adopted_user</th>\n",
              "    </tr>\n",
              "    <tr>\n",
              "      <th>object_id</th>\n",
              "      <th></th>\n",
              "      <th></th>\n",
              "      <th></th>\n",
              "      <th></th>\n",
              "      <th></th>\n",
              "      <th></th>\n",
              "      <th></th>\n",
              "      <th></th>\n",
              "      <th></th>\n",
              "      <th></th>\n",
              "    </tr>\n",
              "  </thead>\n",
              "  <tbody>\n",
              "    <tr>\n",
              "      <th>1</th>\n",
              "      <td>2014-04-22 03:53:30</td>\n",
              "      <td>Clausen August</td>\n",
              "      <td>AugustCClausen@yahoo.com</td>\n",
              "      <td>GUEST_INVITE</td>\n",
              "      <td>1.398139e+09</td>\n",
              "      <td>1</td>\n",
              "      <td>0</td>\n",
              "      <td>11</td>\n",
              "      <td>10803.0</td>\n",
              "      <td>0.0</td>\n",
              "    </tr>\n",
              "  </tbody>\n",
              "</table>\n",
              "</div>"
            ],
            "text/plain": [
              "                 creation_time  ... adopted_user\n",
              "object_id                       ...             \n",
              "1          2014-04-22 03:53:30  ...          0.0\n",
              "\n",
              "[1 rows x 10 columns]"
            ]
          },
          "metadata": {
            "tags": []
          },
          "execution_count": 13
        }
      ]
    },
    {
      "cell_type": "code",
      "metadata": {
        "id": "OCfrHUn6Mxus"
      },
      "source": [
        "#Drop fields that are descriptive of users but not of their source or characteristics\n",
        "\n",
        "users.drop(['name', 'email', 'creation_time',  'last_session_creation_time'], inplace=True, axis=1)\n",
        "#'invited_by_user_id',"
      ],
      "execution_count": 14,
      "outputs": []
    },
    {
      "cell_type": "markdown",
      "metadata": {
        "id": "sefTUJeLRwk7"
      },
      "source": [
        "## **Process Data for Modeling**"
      ]
    },
    {
      "cell_type": "code",
      "metadata": {
        "id": "5xp6QoebPu9J"
      },
      "source": [
        "X = users.drop('adopted_user', axis=1)\n",
        "y = users['adopted_user']"
      ],
      "execution_count": 15,
      "outputs": []
    },
    {
      "cell_type": "code",
      "metadata": {
        "id": "Xx_biBMEQ6Ng"
      },
      "source": [
        "X = pd.get_dummies(X)\n",
        "columns = X.columns"
      ],
      "execution_count": 16,
      "outputs": []
    },
    {
      "cell_type": "code",
      "metadata": {
        "id": "JO2EMKetTU6W"
      },
      "source": [
        "scaler = StandardScaler()\n",
        "X = pd.DataFrame(scaler.fit_transform(X), columns = columns)"
      ],
      "execution_count": 17,
      "outputs": []
    },
    {
      "cell_type": "code",
      "metadata": {
        "id": "j2BFqjpZUNet"
      },
      "source": [
        "X_train, X_test, y_train, y_test = train_test_split(X, y, test_size=.2)"
      ],
      "execution_count": 18,
      "outputs": []
    },
    {
      "cell_type": "markdown",
      "metadata": {
        "id": "ho3q0brJUc1I"
      },
      "source": [
        "## **Modeling**"
      ]
    },
    {
      "cell_type": "code",
      "metadata": {
        "id": "wJLEvTZnUgPe"
      },
      "source": [
        "#Create and fit a logistic regression model\n",
        "\n",
        "lr = LogisticRegression()\n",
        "lr.fit(X_train, y_train)\n",
        "y_pred = lr.predict(X_test)"
      ],
      "execution_count": 19,
      "outputs": []
    },
    {
      "cell_type": "code",
      "metadata": {
        "colab": {
          "base_uri": "https://localhost:8080/"
        },
        "id": "zgXgzSllUsNq",
        "outputId": "867183c9-200a-42da-84bd-5107e737f92d"
      },
      "source": [
        "#Model ROC score\n",
        "\n",
        "roc_auc_score(y_test, y_pred)"
      ],
      "execution_count": 20,
      "outputs": [
        {
          "output_type": "execute_result",
          "data": {
            "text/plain": [
              "0.5"
            ]
          },
          "metadata": {
            "tags": []
          },
          "execution_count": 20
        }
      ]
    },
    {
      "cell_type": "code",
      "metadata": {
        "colab": {
          "base_uri": "https://localhost:8080/",
          "height": 278
        },
        "id": "N-HOHYMAVY0J",
        "outputId": "27190969-9df6-49e0-be3e-530135e48c6a"
      },
      "source": [
        "#Graphically show the model's predictive ability\n",
        "\n",
        "plot_roc_curve(lr, X_test, y_test);"
      ],
      "execution_count": 21,
      "outputs": [
        {
          "output_type": "display_data",
          "data": {
            "image/png": "[encoded data removed]",
            "text/plain": [
              "<Figure size 432x288 with 1 Axes>"
            ]
          },
          "metadata": {
            "tags": [],
            "needs_background": "light"
          }
        }
      ]
    },
    {
      "cell_type": "code",
      "metadata": {
        "colab": {
          "base_uri": "https://localhost:8080/"
        },
        "id": "tZKolkK7Vq0q",
        "outputId": "9166318a-99a8-4bfc-eec8-9626163d25ae"
      },
      "source": [
        "feature_importance = defaultdict(float)\n",
        "columns = np.array(columns)\n",
        "for i in range(0, 7):\n",
        "  feature_importance[columns[i]] = round(lr.coef_[0][i], 2)\n",
        "\n",
        "feature_importance"
      ],
      "execution_count": 22,
      "outputs": [
        {
          "output_type": "execute_result",
          "data": {
            "text/plain": [
              "defaultdict(float,\n",
              "            {'creation_source_GUEST_INVITE': 0.1,\n",
              "             'creation_source_ORG_INVITE': -0.01,\n",
              "             'creation_source_PERSONAL_PROJECTS': -0.2,\n",
              "             'enabled_for_marketing_drip': -0.01,\n",
              "             'invited_by_user_id': 0.04,\n",
              "             'opted_in_to_mailing_list': 0.03,\n",
              "             'org_id': 0.17})"
            ]
          },
          "metadata": {
            "tags": []
          },
          "execution_count": 22
        }
      ]
    },
    {
      "cell_type": "markdown",
      "metadata": {
        "id": "V_DDX5qwWHUJ"
      },
      "source": [
        "## **Conclusions**\n",
        "\n",
        "Out of 8823 total users, 1602 can be termed adopted user, being active three or more times in a seven day period.  The data on hand is insufficient to reliabily predict who will be an adopted user, as the AUC is only .62.  The only predictive feature appears to be org_id."
      ]
    }
  ]
}